{
 "cells": [
  {
   "cell_type": "code",
   "execution_count": 1,
   "id": "e7f5f604-b041-454d-83a9-b1c2b2d3823c",
   "metadata": {},
   "outputs": [
    {
     "name": "stdout",
     "output_type": "stream",
     "text": [
      "Decoding result: [0 1 0]\n"
     ]
    }
   ],
   "source": [
    "import numpy as np\n",
    "from typing import Optional, List, Union\n",
    "from typing import Optional, List\n",
    "from scipy.sparse import csr_matrix\n",
    "from typing import Optional\n",
    "\n",
    "class FlipDecoder:\n",
    "\n",
    "    def __init__(self, pcm: csr_matrix, max_iter: int = 6, pfreq: int = 2, seed: Optional[int] = None):\n",
    "        self.pcm = pcm\n",
    "        self.max_iter = max_iter \n",
    "        self.pfreq = pfreq \n",
    "        self.seed = seed\n",
    "        self.RNG = np.random.default_rng(seed)\n",
    "        self.bit_count = self.pcm.shape[1]\n",
    "        self.check_count = self.pcm.shape[0]\n",
    "        self.decoding = np.zeros(self.bit_count, dtype=np.uint8)\n",
    "\n",
    "    def decode(self, syndrome: np.ndarray):\n",
    "        decoding = np.zeros_like(self.decoding, dtype=np.int64)  \n",
    "        current_syndrome = syndrome.astype(np.int64).copy()  \n",
    "        \n",
    "        if np.sum(current_syndrome) == 0:\n",
    "                        return decoding\n",
    "    \n",
    "        pcm_t = self.pcm.transpose().tocsr()  \n",
    "        for iteration in range(1, self.max_iter + 1):\n",
    "\n",
    "            for bit_idx in range(self.bit_count):\n",
    "                bit_flip = False\n",
    "                checks = pcm_t.indices[pcm_t.indptr[bit_idx]:pcm_t.indptr[bit_idx + 1]]\n",
    "                unsatisfied_checks = current_syndrome[checks] == 1\n",
    "                satisfied_checks = ~unsatisfied_checks\n",
    "            \n",
    "                if np.sum(satisfied_checks) <  np.sum(unsatisfied_checks):\n",
    "                    bit_flip = True\n",
    "\n",
    "                elif iteration % self.pfreq == 0 and np.sum(satisfied_checks) == np.sum(unsatisfied_checks):\n",
    "                    if self.RNG.random() < 0.5:\n",
    "                        bit_flip = True\n",
    "\n",
    "                if bit_flip:\n",
    "                        decoding[bit_idx] ^= 1\n",
    "                        current_syndrome[checks] ^= 1\n",
    "                        if np.sum(current_syndrome) == 0:\n",
    "                            return decoding\n",
    "                \n",
    "        \n",
    "        return decoding\n",
    "\n",
    "                    \n",
    "\n",
    "if __name__ == \"__main__\":\n",
    "    pcm = csr_matrix([\n",
    "        [1, 1, 0],\n",
    "        [1, 0, 1],\n",
    "        [0, 1, 1]\n",
    "    ])\n",
    "    decoder = FlipDecoder(pcm, max_iter=10, pfreq=1, seed=42)\n",
    "    syndrome = np.array([1, 0, 1], dtype=np.uint8)\n",
    "    result = decoder.decode(syndrome)\n",
    "    print(\"Decoding result:\", result)\n",
    "\n"
   ]
  }
 ],
 "metadata": {
  "kernelspec": {
   "display_name": "Python 3 (ipykernel)",
   "language": "python",
   "name": "python3"
  },
  "language_info": {
   "codemirror_mode": {
    "name": "ipython",
    "version": 3
   },
   "file_extension": ".py",
   "mimetype": "text/x-python",
   "name": "python",
   "nbconvert_exporter": "python",
   "pygments_lexer": "ipython3",
   "version": "3.10.13"
  }
 },
 "nbformat": 4,
 "nbformat_minor": 5
}
